{
 "cells": [
  {
   "metadata": {},
   "cell_type": "markdown",
   "source": "# Exploration",
   "id": "a2d856b951b2645f"
  },
  {
   "metadata": {},
   "cell_type": "markdown",
   "source": "This notebook contains the data exploration done on the dataset. It's aim is to answer the following research question: **TODO**. This is done by generating insightful visualizations, using multiple techniques from the class (e.g. **TODO**), and also extending the dataset with additional relevant data, namely **TODO**.",
   "id": "461b12848554db46"
  },
  {
   "metadata": {},
   "cell_type": "code",
   "source": [
    "import pandas as pd\n",
    "import matplotlib.pyplot as plt\n",
    "plt.figure(figsize=(12, 6))"
   ],
   "id": "5e0f276ee1ddf011",
   "outputs": [],
   "execution_count": null
  },
  {
   "metadata": {},
   "cell_type": "markdown",
   "source": "First, let's read the data into a pandas dataframe and inspect the columns. We also set the index to the starttime of the trips.",
   "id": "43ed12b19079822f"
  },
  {
   "cell_type": "code",
   "id": "initial_id",
   "metadata": {
    "collapsed": true
   },
   "source": [
    "trips = pd.read_csv('../data/Trips_2018.csv', index_col=2, parse_dates=True)\n",
    "trips = trips.sort_index() # Sort the trips in ascending order of the start time\n",
    "print(\"Shape:\", trips.shape)\n",
    "print(trips.head(3))"
   ],
   "outputs": [],
   "execution_count": null
  },
  {
   "metadata": {},
   "cell_type": "markdown",
   "source": "We can get all trips for one day, using the loc method:",
   "id": "9adbe67718184a21"
  },
  {
   "metadata": {},
   "cell_type": "code",
   "source": "trips.loc['2018-06-01']",
   "id": "b60bb174efef5b6f",
   "outputs": [],
   "execution_count": null
  },
  {
   "metadata": {},
   "cell_type": "markdown",
   "source": "Let's plot how many trips were done each day.",
   "id": "782039760050080f"
  },
  {
   "metadata": {},
   "cell_type": "code",
   "source": [
    "daily_counts = trips.resample('D').size() # Group the trips by day\n",
    "\n",
    "daily_counts.plot(kind='line')\n",
    "plt.title('Daily Trip Counts')\n",
    "plt.xlabel('Date')\n",
    "plt.ylabel('Number of Trips')\n",
    "plt.grid(axis='y', linestyle='--')\n",
    "plt.show()"
   ],
   "id": "88f8b6ff3e7f2f0c",
   "outputs": [],
   "execution_count": null
  },
  {
   "metadata": {},
   "cell_type": "markdown",
   "source": "We can clearly see a difference in the amount of trips done in summer versus in winter. Let's show this relation explicitly by including a dataset with the temperatures in New York. The dataset was downloaded from [Kaggle](https://www.kaggle.com/datasets/aadimator/nyc-weather-2016-to-2022).",
   "id": "17282ee1725059f8"
  },
  {
   "metadata": {},
   "cell_type": "code",
   "source": [
    "weather = pd.read_csv(\"../data/NYC_Weather_2016_2022.csv\", index_col=0, parse_dates=True)\n",
    "\n",
    "# Only keep the weather for 2018\n",
    "weather = weather.loc['2018']\n",
    "\n",
    "# Compute the average temperature per day\n",
    "daily_avg_temp = weather['temperature_2m (°C)'].resample('D').mean()"
   ],
   "id": "392eb3e477371e1b",
   "outputs": [],
   "execution_count": null
  },
  {
   "metadata": {},
   "cell_type": "code",
   "source": [
    "# Plot daily trip counts (left y-axis)\n",
    "ax1 = daily_counts.plot(kind='line', color='tab:blue', label='Daily Trip Counts')\n",
    "\n",
    "# Create a second y-axis (right)\n",
    "ax2 = ax1.twinx()\n",
    "daily_avg_temp.plot(kind='line', color='tab:red', label='Avg Temperature (°C)', ax=ax2)\n",
    "\n",
    "ax1.set_title('Daily Trip Counts vs. Average Temperature (2018)')\n",
    "ax1.set_xlabel('Date')\n",
    "ax1.set_ylabel('Number of Trips', color='tab:blue')\n",
    "ax2.set_ylabel('Avg Temperature (°C)', color='tab:red')\n",
    "ax1.grid(axis='y', linestyle='--')\n",
    "\n",
    "# Combine legends\n",
    "lines_1, labels_1 = ax1.get_legend_handles_labels()\n",
    "lines_2, labels_2 = ax2.get_legend_handles_labels()\n",
    "ax1.legend(lines_1 + lines_2, labels_1 + labels_2, loc='upper left')\n",
    "\n",
    "plt.show()\n"
   ],
   "id": "c96b43bbdd0d6e53",
   "outputs": [],
   "execution_count": null
  },
  {
   "metadata": {},
   "cell_type": "markdown",
   "source": "The relation between the trip count and the average temperature is very significant.",
   "id": "fabf89bb820e172d"
  },
  {
   "metadata": {},
   "cell_type": "markdown",
   "source": "Let's zoom in on January and February and look for weekly seasonality (highlighting weekend days).",
   "id": "20878035ba8846ae"
  },
  {
   "metadata": {},
   "cell_type": "code",
   "source": [
    "start = '2018-01'\n",
    "end = '2018-02'\n",
    "trips_jan_feb = trips.loc[start:end]\n",
    "\n",
    "number_trips_jan_feb = trips_jan_feb.resample('D').size()\n",
    "\n",
    "weekends=number_trips_jan_feb.index.weekday >= 5\n",
    "colors=['blue' if x else 'red' for x in weekends]\n",
    "\n",
    "import matplotlib.dates as mdates\n",
    "\n",
    "fig, ax = plt.subplots()\n",
    "ax.plot(number_trips_jan_feb)\n",
    "ax.scatter(number_trips_jan_feb.index, number_trips_jan_feb, marker='o', linestyle='-', c=colors)\n",
    "ax.set_xlabel('Date')\n",
    "ax.set_ylabel('Number of Trips')\n",
    "ax.set_title('Jan-Feb 2018 Number of Trips')\n",
    "\n",
    "# Format x-tick labels as 3-letter month name and day number\n",
    "ax.xaxis.set_major_formatter(mdates.DateFormatter('%b %d'));"
   ],
   "id": "241e12227ee4eebb",
   "outputs": [],
   "execution_count": null
  },
  {
   "metadata": {},
   "cell_type": "markdown",
   "source": "In general, we can see that during the weekends (blue dots) the amount of trips lower than during the rest of the week.",
   "id": "72a81e3dda0525ad"
  },
  {
   "metadata": {},
   "cell_type": "markdown",
   "source": "## Stations",
   "id": "518d1f7c38a36a76"
  }
 ],
 "metadata": {
  "kernelspec": {
   "display_name": "Python 3",
   "language": "python",
   "name": "python3"
  },
  "language_info": {
   "codemirror_mode": {
    "name": "ipython",
    "version": 2
   },
   "file_extension": ".py",
   "mimetype": "text/x-python",
   "name": "python",
   "nbconvert_exporter": "python",
   "pygments_lexer": "ipython2",
   "version": "2.7.6"
  }
 },
 "nbformat": 4,
 "nbformat_minor": 5
}
